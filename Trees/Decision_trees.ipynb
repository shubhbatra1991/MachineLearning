{
 "cells": [
  {
   "cell_type": "code",
   "execution_count": 1,
   "metadata": {},
   "outputs": [],
   "source": [
    "# Ignoring warning for better presentation\n",
    "options(warn=-1)"
   ]
  },
  {
   "cell_type": "code",
   "execution_count": 3,
   "metadata": {},
   "outputs": [],
   "source": [
    "# import\n",
    "library(rpart)\n",
    "library(rpart.plot)\n",
    "library(caret)\n",
    "library(Metrics)\n",
    "library(ModelMetrics)"
   ]
  },
  {
   "cell_type": "code",
   "execution_count": 4,
   "metadata": {},
   "outputs": [
    {
     "data": {
      "text/html": [
       "<table>\n",
       "<thead><tr><th scope=col>months_loan_duration</th><th scope=col>percent_of_income</th><th scope=col>years_at_residence</th><th scope=col>age</th><th scope=col>default</th></tr></thead>\n",
       "<tbody>\n",
       "\t<tr><td> 6 </td><td>4  </td><td>4  </td><td>67 </td><td>no </td></tr>\n",
       "\t<tr><td>48 </td><td>2  </td><td>2  </td><td>22 </td><td>yes</td></tr>\n",
       "\t<tr><td>12 </td><td>2  </td><td>3  </td><td>49 </td><td>no </td></tr>\n",
       "\t<tr><td>42 </td><td>2  </td><td>4  </td><td>45 </td><td>no </td></tr>\n",
       "\t<tr><td>24 </td><td>3  </td><td>4  </td><td>53 </td><td>yes</td></tr>\n",
       "\t<tr><td>36 </td><td>2  </td><td>4  </td><td>35 </td><td>no </td></tr>\n",
       "</tbody>\n",
       "</table>\n"
      ],
      "text/latex": [
       "\\begin{tabular}{r|lllll}\n",
       " months\\_loan\\_duration & percent\\_of\\_income & years\\_at\\_residence & age & default\\\\\n",
       "\\hline\n",
       "\t  6  & 4   & 4   & 67  & no \\\\\n",
       "\t 48  & 2   & 2   & 22  & yes\\\\\n",
       "\t 12  & 2   & 3   & 49  & no \\\\\n",
       "\t 42  & 2   & 4   & 45  & no \\\\\n",
       "\t 24  & 3   & 4   & 53  & yes\\\\\n",
       "\t 36  & 2   & 4   & 35  & no \\\\\n",
       "\\end{tabular}\n"
      ],
      "text/markdown": [
       "\n",
       "months_loan_duration | percent_of_income | years_at_residence | age | default | \n",
       "|---|---|---|---|---|---|\n",
       "|  6  | 4   | 4   | 67  | no  | \n",
       "| 48  | 2   | 2   | 22  | yes | \n",
       "| 12  | 2   | 3   | 49  | no  | \n",
       "| 42  | 2   | 4   | 45  | no  | \n",
       "| 24  | 3   | 4   | 53  | yes | \n",
       "| 36  | 2   | 4   | 35  | no  | \n",
       "\n",
       "\n"
      ],
      "text/plain": [
       "  months_loan_duration percent_of_income years_at_residence age default\n",
       "1  6                   4                 4                  67  no     \n",
       "2 48                   2                 2                  22  yes    \n",
       "3 12                   2                 3                  49  no     \n",
       "4 42                   2                 4                  45  no     \n",
       "5 24                   3                 4                  53  yes    \n",
       "6 36                   2                 4                  35  no     "
      ]
     },
     "metadata": {},
     "output_type": "display_data"
    }
   ],
   "source": [
    "# reading data file ~ credit.csv \n",
    "# taken from https://archive.ics.uci.edu/ml/datasets/Statlog+%28German+Credit+Data%29\n",
    "\n",
    "# credit.csv is composed of qualitative and quantitative variables.\n",
    "# For this exercise we will focus on the following variables only, namely -\n",
    "# months_loan_duration: colnumber - 2\n",
    "# percent_of_income: colnumber - 8\n",
    "# years_at_residence: colnumber - 9\n",
    "# age - 10\n",
    "# default - 17\n",
    "\n",
    "cols <- rep('NULL', 17)\n",
    "cols[c(2, 8, 9, 10, 17)] <- NA\n",
    "\n",
    "creditsub <- read.csv(file = '/home/dell/R_programming/case studies/trees/machinelearning-R/credit.csv', \n",
    "                      colClasses = cols,\n",
    "                      header = T)\n",
    "\n",
    "# Let's take a look at the dataframe\n",
    "head(creditsub)"
   ]
  },
  {
   "cell_type": "code",
   "execution_count": 5,
   "metadata": {},
   "outputs": [
    {
     "name": "stdout",
     "output_type": "stream",
     "text": [
      "'data.frame':\t1000 obs. of  5 variables:\n",
      " $ months_loan_duration: int  6 48 12 42 24 36 24 36 12 30 ...\n",
      " $ percent_of_income   : int  4 2 2 2 3 2 3 2 2 4 ...\n",
      " $ years_at_residence  : int  4 2 3 4 4 4 4 2 4 2 ...\n",
      " $ age                 : int  67 22 49 45 53 35 53 35 61 28 ...\n",
      " $ default             : Factor w/ 2 levels \"no\",\"yes\": 1 2 1 1 2 1 1 1 1 2 ...\n"
     ]
    }
   ],
   "source": [
    "# Let's check out the structure of the df\n",
    "str(creditsub)"
   ]
  },
  {
   "cell_type": "code",
   "execution_count": 6,
   "metadata": {},
   "outputs": [],
   "source": [
    "# Let's split the data into train and test\n",
    "\n",
    "# Setting seed for reproducible train and test partitions\n",
    "set.seed(123)\n",
    "\n",
    "smp_size <- floor(0.75 * nrow(creditsub))\n",
    "\n",
    "train_ind <- sample(seq_len(nrow(creditsub)), size = smp_size)\n",
    "\n",
    "credit_train <- creditsub[train_ind, ]\n",
    "\n",
    "credit_test <- creditsub[-train_ind, ]"
   ]
  },
  {
   "cell_type": "code",
   "execution_count": 7,
   "metadata": {},
   "outputs": [
    {
     "data": {
      "image/png": "[encoded data removed]",
      "text/plain": [
       "plot without title"
      ]
     },
     "metadata": {},
     "output_type": "display_data"
    }
   ],
   "source": [
    "# Let's create a binary classification tree model\n",
    "# and train it with training df created above\n",
    "\n",
    "# Here we are using all the variables to determine 'default'\n",
    "# hence the forumla is default(response variable) vs ., where (.) signifies\n",
    "# all other variables(predictor variables) apart from default\n",
    "credit_model <- rpart(\n",
    "                    formula = default ~ ., \n",
    "                    data = credit_train, \n",
    "                    method = \"class\"\n",
    "                    )\n",
    "\n",
    "# Display the results\n",
    "rpart.plot(x = credit_model, yesno = 2, type = 0, extra = 0)\n",
    "\n",
    "# As you can see from the figure, trees are easy to \n",
    "# interpret, visualize and understand\n",
    "# Tree based models don't need normalization or special \n",
    "# encoding of categorical variables"
   ]
  },
  {
   "cell_type": "code",
   "execution_count": 8,
   "metadata": {},
   "outputs": [
    {
     "data": {
      "text/html": [
       "<table>\n",
       "<thead><tr><th></th><th scope=col>no</th><th scope=col>yes</th></tr></thead>\n",
       "<tbody>\n",
       "\t<tr><th scope=row>3</th><td>0.7377850</td><td>0.2622150</td></tr>\n",
       "\t<tr><th scope=row>4</th><td>0.7735849</td><td>0.2264151</td></tr>\n",
       "\t<tr><th scope=row>10</th><td>0.7377850</td><td>0.2622150</td></tr>\n",
       "\t<tr><th scope=row>11</th><td>0.7377850</td><td>0.2622150</td></tr>\n",
       "\t<tr><th scope=row>14</th><td>0.7377850</td><td>0.2622150</td></tr>\n",
       "\t<tr><th scope=row>22</th><td>0.7377850</td><td>0.2622150</td></tr>\n",
       "</tbody>\n",
       "</table>\n"
      ],
      "text/latex": [
       "\\begin{tabular}{r|ll}\n",
       "  & no & yes\\\\\n",
       "\\hline\n",
       "\t3 & 0.7377850 & 0.2622150\\\\\n",
       "\t4 & 0.7735849 & 0.2264151\\\\\n",
       "\t10 & 0.7377850 & 0.2622150\\\\\n",
       "\t11 & 0.7377850 & 0.2622150\\\\\n",
       "\t14 & 0.7377850 & 0.2622150\\\\\n",
       "\t22 & 0.7377850 & 0.2622150\\\\\n",
       "\\end{tabular}\n"
      ],
      "text/markdown": [
       "\n",
       "| <!--/--> | no | yes | \n",
       "|---|---|---|---|---|---|\n",
       "| 3 | 0.7377850 | 0.2622150 | \n",
       "| 4 | 0.7735849 | 0.2264151 | \n",
       "| 10 | 0.7377850 | 0.2622150 | \n",
       "| 11 | 0.7377850 | 0.2622150 | \n",
       "| 14 | 0.7377850 | 0.2622150 | \n",
       "| 22 | 0.7377850 | 0.2622150 | \n",
       "\n",
       "\n"
      ],
      "text/plain": [
       "   no        yes      \n",
       "3  0.7377850 0.2622150\n",
       "4  0.7735849 0.2264151\n",
       "10 0.7377850 0.2622150\n",
       "11 0.7377850 0.2622150\n",
       "14 0.7377850 0.2622150\n",
       "22 0.7377850 0.2622150"
      ]
     },
     "metadata": {},
     "output_type": "display_data"
    },
    {
     "data": {
      "text/html": [
       "<table>\n",
       "<thead><tr><th></th><th scope=col>no</th><th scope=col>yes</th></tr></thead>\n",
       "<tbody>\n",
       "\t<tr><th scope=row>978</th><td>0.737785</td><td>0.262215</td></tr>\n",
       "\t<tr><th scope=row>985</th><td>0.737785</td><td>0.262215</td></tr>\n",
       "\t<tr><th scope=row>986</th><td>0.737785</td><td>0.262215</td></tr>\n",
       "\t<tr><th scope=row>988</th><td>0.737785</td><td>0.262215</td></tr>\n",
       "\t<tr><th scope=row>991</th><td>0.737785</td><td>0.262215</td></tr>\n",
       "\t<tr><th scope=row>999</th><td>0.326087</td><td>0.673913</td></tr>\n",
       "</tbody>\n",
       "</table>\n"
      ],
      "text/latex": [
       "\\begin{tabular}{r|ll}\n",
       "  & no & yes\\\\\n",
       "\\hline\n",
       "\t978 & 0.737785 & 0.262215\\\\\n",
       "\t985 & 0.737785 & 0.262215\\\\\n",
       "\t986 & 0.737785 & 0.262215\\\\\n",
       "\t988 & 0.737785 & 0.262215\\\\\n",
       "\t991 & 0.737785 & 0.262215\\\\\n",
       "\t999 & 0.326087 & 0.673913\\\\\n",
       "\\end{tabular}\n"
      ],
      "text/markdown": [
       "\n",
       "| <!--/--> | no | yes | \n",
       "|---|---|---|---|---|---|\n",
       "| 978 | 0.737785 | 0.262215 | \n",
       "| 985 | 0.737785 | 0.262215 | \n",
       "| 986 | 0.737785 | 0.262215 | \n",
       "| 988 | 0.737785 | 0.262215 | \n",
       "| 991 | 0.737785 | 0.262215 | \n",
       "| 999 | 0.326087 | 0.673913 | \n",
       "\n",
       "\n"
      ],
      "text/plain": [
       "    no       yes     \n",
       "978 0.737785 0.262215\n",
       "985 0.737785 0.262215\n",
       "986 0.737785 0.262215\n",
       "988 0.737785 0.262215\n",
       "991 0.737785 0.262215\n",
       "999 0.326087 0.673913"
      ]
     },
     "metadata": {},
     "output_type": "display_data"
    }
   ],
   "source": [
    "# So now we generate the predicted results \n",
    "# and compare it with credit_test actual values\n",
    "\n",
    "# Let's predict the credit_test but use type='prob'\n",
    "# to get the probabilities of each class rather than\n",
    "# the class itself\n",
    "\n",
    "class_prediction <- predict(object = credit_model,\n",
    "                        newdata = credit_test,   \n",
    "                        type = \"prob\")\n",
    "\n",
    "head(class_prediction)\n",
    "tail(class_prediction)"
   ]
  },
  {
   "cell_type": "code",
   "execution_count": 9,
   "metadata": {},
   "outputs": [
    {
     "data": {
      "text/html": [
       "<dl class=dl-horizontal>\n",
       "\t<dt>3</dt>\n",
       "\t\t<dd>no</dd>\n",
       "\t<dt>4</dt>\n",
       "\t\t<dd>no</dd>\n",
       "\t<dt>10</dt>\n",
       "\t\t<dd>no</dd>\n",
       "\t<dt>11</dt>\n",
       "\t\t<dd>no</dd>\n",
       "\t<dt>14</dt>\n",
       "\t\t<dd>no</dd>\n",
       "\t<dt>22</dt>\n",
       "\t\t<dd>no</dd>\n",
       "</dl>\n"
      ],
      "text/latex": [
       "\\begin{description*}\n",
       "\\item[3] no\n",
       "\\item[4] no\n",
       "\\item[10] no\n",
       "\\item[11] no\n",
       "\\item[14] no\n",
       "\\item[22] no\n",
       "\\end{description*}\n"
      ],
      "text/markdown": [
       "3\n",
       ":   no4\n",
       ":   no10\n",
       ":   no11\n",
       ":   no14\n",
       ":   no22\n",
       ":   no\n",
       "\n"
      ],
      "text/plain": [
       " 3  4 10 11 14 22 \n",
       "no no no no no no \n",
       "Levels: no yes"
      ]
     },
     "metadata": {},
     "output_type": "display_data"
    },
    {
     "data": {
      "text/html": [
       "<dl class=dl-horizontal>\n",
       "\t<dt>978</dt>\n",
       "\t\t<dd>no</dd>\n",
       "\t<dt>985</dt>\n",
       "\t\t<dd>no</dd>\n",
       "\t<dt>986</dt>\n",
       "\t\t<dd>no</dd>\n",
       "\t<dt>988</dt>\n",
       "\t\t<dd>no</dd>\n",
       "\t<dt>991</dt>\n",
       "\t\t<dd>no</dd>\n",
       "\t<dt>999</dt>\n",
       "\t\t<dd>yes</dd>\n",
       "</dl>\n"
      ],
      "text/latex": [
       "\\begin{description*}\n",
       "\\item[978] no\n",
       "\\item[985] no\n",
       "\\item[986] no\n",
       "\\item[988] no\n",
       "\\item[991] no\n",
       "\\item[999] yes\n",
       "\\end{description*}\n"
      ],
      "text/markdown": [
       "978\n",
       ":   no985\n",
       ":   no986\n",
       ":   no988\n",
       ":   no991\n",
       ":   no999\n",
       ":   yes\n",
       "\n"
      ],
      "text/plain": [
       "978 985 986 988 991 999 \n",
       " no  no  no  no  no yes \n",
       "Levels: no yes"
      ]
     },
     "metadata": {},
     "output_type": "display_data"
    }
   ],
   "source": [
    "# Let's now assign a class rather than probability\n",
    "class_prediction <- predict(object = credit_model,\n",
    "                        newdata = credit_test,   \n",
    "                        type = \"class\")\n",
    "\n",
    "head(class_prediction)\n",
    "tail(class_prediction)"
   ]
  },
  {
   "cell_type": "code",
   "execution_count": 10,
   "metadata": {},
   "outputs": [
    {
     "data": {
      "text/plain": [
       "Confusion Matrix and Statistics\n",
       "\n",
       "          Reference\n",
       "Prediction  no yes\n",
       "       no  168  65\n",
       "       yes   7  10\n",
       "                                          \n",
       "               Accuracy : 0.712           \n",
       "                 95% CI : (0.6516, 0.7673)\n",
       "    No Information Rate : 0.7             \n",
       "    P-Value [Acc > NIR] : 0.3681          \n",
       "                                          \n",
       "                  Kappa : 0.1198          \n",
       " Mcnemar's Test P-Value : 1.849e-11       \n",
       "                                          \n",
       "            Sensitivity : 0.9600          \n",
       "            Specificity : 0.1333          \n",
       "         Pos Pred Value : 0.7210          \n",
       "         Neg Pred Value : 0.5882          \n",
       "             Prevalence : 0.7000          \n",
       "         Detection Rate : 0.6720          \n",
       "   Detection Prevalence : 0.9320          \n",
       "      Balanced Accuracy : 0.5467          \n",
       "                                          \n",
       "       'Positive' Class : no              \n",
       "                                          "
      ]
     },
     "metadata": {},
     "output_type": "display_data"
    }
   ],
   "source": [
    "# There are various evaluation metrics to evaluate\n",
    "# our binary classification tree based model.\n",
    "# However, let's just check our model's confusion \n",
    "# matrix to get a better sense of our model.\n",
    "\n",
    "# Calculate the confusion matrix for the test set\n",
    "caret::confusionMatrix(data = class_prediction,       \n",
    "                reference = credit_test$default)\n",
    "\n",
    "# That outputs a whole bunch of values. Let's just\n",
    "# look at accuracy and the confusion matrix.\n",
    "# Accuracy of 71.2% is fair but not that impressive.\n",
    "# Upon checking the confusion matrix, we realize that\n",
    "# the model is not good with predicting the default\n",
    "# when it is actually a default."
   ]
  },
  {
   "cell_type": "code",
   "execution_count": 11,
   "metadata": {},
   "outputs": [
    {
     "data": {
      "text/html": [
       "0.288"
      ],
      "text/latex": [
       "0.288"
      ],
      "text/markdown": [
       "0.288"
      ],
      "text/plain": [
       "[1] 0.288"
      ]
     },
     "metadata": {},
     "output_type": "display_data"
    },
    {
     "data": {
      "text/html": [
       "0.288"
      ],
      "text/latex": [
       "0.288"
      ],
      "text/markdown": [
       "0.288"
      ],
      "text/plain": [
       "[1] 0.288"
      ]
     },
     "metadata": {},
     "output_type": "display_data"
    }
   ],
   "source": [
    "# Since we are not convinced with our results, what else\n",
    "# could be done? Here if we look at the training model\n",
    "# step then we will realize that we are using methods = 'class'\n",
    "# which uses 'gini' as the default splitting index. \n",
    "# We should see if there is any difference if we change the \n",
    "# splitting index. \n",
    "\n",
    "# Let's train our model with gini splitting index vs information\n",
    "# splitting index\n",
    "\n",
    "# Train a gini-based model\n",
    "credit_model1 <- rpart(formula = default ~ ., \n",
    "                       data = credit_train, \n",
    "                       method = \"class\",\n",
    "                       parms = list(split = 'gini'))\n",
    "\n",
    "# Train an information-based model\n",
    "credit_model2 <- rpart(formula = default ~ ., \n",
    "                       data = credit_train, \n",
    "                       method = \"class\",\n",
    "                       parms = list(split = 'information'))\n",
    "\n",
    "# Generating predictions on the validation set using the gini model\n",
    "pred1 <- predict(object = credit_model1, \n",
    "             newdata = credit_test,\n",
    "             type = \"class\")    \n",
    "\n",
    "# Generating predictions on the validation set using the information model\n",
    "pred2 <- predict(object = credit_model2, \n",
    "             newdata = credit_test,\n",
    "             type = \"class\")\n",
    "# Comparing classification error which is the fraction of incorrectly\n",
    "# classified instances. This implies the lower the score the better\n",
    "# the model. We use a function ce from ModelMetrics package.\n",
    "\n",
    "ce(actual = credit_test$default, \n",
    "   predicted = pred1)\n",
    "ce(actual = credit_test$default, \n",
    "   predicted = pred2)"
   ]
  },
  {
   "cell_type": "code",
   "execution_count": 12,
   "metadata": {},
   "outputs": [],
   "source": [
    "# As seen parameter tuning is of no help in this case.\n",
    "# We need to look at some other approach - Bagged Trees. Bagged Trees\n",
    "# are discussed in another notebook. Please check in the repo."
   ]
  },
  {
   "cell_type": "code",
   "execution_count": 14,
   "metadata": {},
   "outputs": [
    {
     "data": {
      "text/html": [
       "<table>\n",
       "<thead><tr><th scope=col>final_grade</th><th scope=col>age</th><th scope=col>address</th><th scope=col>studytime</th><th scope=col>schoolsup</th><th scope=col>famsup</th><th scope=col>paid</th><th scope=col>absences</th></tr></thead>\n",
       "<tbody>\n",
       "\t<tr><td>3.0</td><td>18 </td><td>U  </td><td>2  </td><td>yes</td><td>no </td><td>no </td><td> 6 </td></tr>\n",
       "\t<tr><td>3.0</td><td>17 </td><td>U  </td><td>2  </td><td>no </td><td>yes</td><td>no </td><td> 4 </td></tr>\n",
       "\t<tr><td>5.0</td><td>15 </td><td>U  </td><td>2  </td><td>yes</td><td>no </td><td>yes</td><td>10 </td></tr>\n",
       "\t<tr><td>7.5</td><td>15 </td><td>U  </td><td>3  </td><td>no </td><td>yes</td><td>yes</td><td> 2 </td></tr>\n",
       "\t<tr><td>5.0</td><td>16 </td><td>U  </td><td>2  </td><td>no </td><td>yes</td><td>yes</td><td> 4 </td></tr>\n",
       "\t<tr><td>7.5</td><td>16 </td><td>U  </td><td>2  </td><td>no </td><td>yes</td><td>yes</td><td>10 </td></tr>\n",
       "</tbody>\n",
       "</table>\n"
      ],
      "text/latex": [
       "\\begin{tabular}{r|llllllll}\n",
       " final\\_grade & age & address & studytime & schoolsup & famsup & paid & absences\\\\\n",
       "\\hline\n",
       "\t 3.0 & 18  & U   & 2   & yes & no  & no  &  6 \\\\\n",
       "\t 3.0 & 17  & U   & 2   & no  & yes & no  &  4 \\\\\n",
       "\t 5.0 & 15  & U   & 2   & yes & no  & yes & 10 \\\\\n",
       "\t 7.5 & 15  & U   & 3   & no  & yes & yes &  2 \\\\\n",
       "\t 5.0 & 16  & U   & 2   & no  & yes & yes &  4 \\\\\n",
       "\t 7.5 & 16  & U   & 2   & no  & yes & yes & 10 \\\\\n",
       "\\end{tabular}\n"
      ],
      "text/markdown": [
       "\n",
       "final_grade | age | address | studytime | schoolsup | famsup | paid | absences | \n",
       "|---|---|---|---|---|---|\n",
       "| 3.0 | 18  | U   | 2   | yes | no  | no  |  6  | \n",
       "| 3.0 | 17  | U   | 2   | no  | yes | no  |  4  | \n",
       "| 5.0 | 15  | U   | 2   | yes | no  | yes | 10  | \n",
       "| 7.5 | 15  | U   | 3   | no  | yes | yes |  2  | \n",
       "| 5.0 | 16  | U   | 2   | no  | yes | yes |  4  | \n",
       "| 7.5 | 16  | U   | 2   | no  | yes | yes | 10  | \n",
       "\n",
       "\n"
      ],
      "text/plain": [
       "  final_grade age address studytime schoolsup famsup paid absences\n",
       "1 3.0         18  U       2         yes       no     no    6      \n",
       "2 3.0         17  U       2         no        yes    no    4      \n",
       "3 5.0         15  U       2         yes       no     yes  10      \n",
       "4 7.5         15  U       3         no        yes    yes   2      \n",
       "5 5.0         16  U       2         no        yes    yes   4      \n",
       "6 7.5         16  U       2         no        yes    yes  10      "
      ]
     },
     "metadata": {},
     "output_type": "display_data"
    }
   ],
   "source": [
    "# Let's see another dataset. However, this time\n",
    "# we will deal with a regression tree based model. \n",
    "\n",
    "# reading data file ~ grade.csv \n",
    "# taken from https://archive.ics.uci.edu/ml/datasets/Student+Performance\n",
    "\n",
    "# grade.csv is composed of qualitative and quantitative variables.\n",
    "# For this exercise we will focus on the following variables only, namely -\n",
    "# sex [m/f], age, address, studytime (weekly study time), \n",
    "# schoolsup (extra educational support) [yes/no],\n",
    "# famsup (family educational support) [yes/no],\n",
    "# paid (extra paid classes within the course subject) [y/n] and absences\n",
    "\n",
    "# The response is final_grade (numeric: from 0 to 20, output target).\n",
    "\n",
    "grade <- read.csv(file = '/home/dell/R_programming/case studies/trees/machinelearning-R/grade.csv', \n",
    "                      header = T)\n",
    "\n",
    "# Let's take a look at the dataframe\n",
    "head(grade)"
   ]
  },
  {
   "cell_type": "code",
   "execution_count": 15,
   "metadata": {},
   "outputs": [
    {
     "name": "stdout",
     "output_type": "stream",
     "text": [
      "'data.frame':\t395 obs. of  8 variables:\n",
      " $ final_grade: num  3 3 5 7.5 5 7.5 5.5 3 9.5 7.5 ...\n",
      " $ age        : int  18 17 15 15 16 16 16 17 15 15 ...\n",
      " $ address    : Factor w/ 2 levels \"R\",\"U\": 2 2 2 2 2 2 2 2 2 2 ...\n",
      " $ studytime  : int  2 2 2 3 2 2 2 2 2 2 ...\n",
      " $ schoolsup  : Factor w/ 2 levels \"no\",\"yes\": 2 1 2 1 1 1 1 2 1 1 ...\n",
      " $ famsup     : Factor w/ 2 levels \"no\",\"yes\": 1 2 1 2 2 2 1 2 2 2 ...\n",
      " $ paid       : Factor w/ 2 levels \"no\",\"yes\": 1 1 2 2 2 2 1 1 2 2 ...\n",
      " $ absences   : int  6 4 10 2 4 10 0 6 0 0 ...\n"
     ]
    }
   ],
   "source": [
    "str(grade)"
   ]
  },
  {
   "cell_type": "code",
   "execution_count": 16,
   "metadata": {},
   "outputs": [],
   "source": [
    "# Let's divide the df into train, test and validation\n",
    "# Validation is for tuning hyperparameters.\n",
    "\n",
    "set.seed(1)\n",
    "assignment <- sample(1:3, size = nrow(grade), prob = c(0.7, 0.15, 0.15), replace = TRUE)\n",
    "\n",
    "# Creating a train, validation and tests from the original data frame \n",
    "grade_train <- grade[assignment == 1, ]    # subset the grade data frame to training indices only\n",
    "grade_valid <- grade[assignment == 2, ]  # subset the grade data frame to validation indices only\n",
    "grade_test <- grade[assignment == 3, ]   # subset the grade data frame to test indices only"
   ]
  },
  {
   "cell_type": "code",
   "execution_count": 17,
   "metadata": {},
   "outputs": [
    {
     "data": {
      "image/png": "[encoded data removed]",
      "text/plain": [
       "plot without title"
      ]
     },
     "metadata": {},
     "output_type": "display_data"
    }
   ],
   "source": [
    "# Train the model\n",
    "grade_model <- rpart(formula = final_grade ~ ., \n",
    "                     data = grade_train, \n",
    "                     method = \"anova\")\n",
    "\n",
    "# Plot the tree model\n",
    "rpart.plot(x = grade_model, yesno = 2, type = 0, extra = 0)"
   ]
  },
  {
   "cell_type": "code",
   "execution_count": 18,
   "metadata": {},
   "outputs": [
    {
     "data": {
      "text/html": [
       "2.27824929805273"
      ],
      "text/latex": [
       "2.27824929805273"
      ],
      "text/markdown": [
       "2.27824929805273"
      ],
      "text/plain": [
       "[1] 2.278249"
      ]
     },
     "metadata": {},
     "output_type": "display_data"
    }
   ],
   "source": [
    "# Let's evaulate the model\n",
    "\n",
    "# Generating predictions on a test set\n",
    "pred <- predict(object = grade_model,\n",
    "                newdata = grade_test)\n",
    "\n",
    "# RMSE\n",
    "rmse(actual = grade_test$final_grade, \n",
    "     predicted = pred)"
   ]
  },
  {
   "cell_type": "code",
   "execution_count": 19,
   "metadata": {},
   "outputs": [
    {
     "name": "stdout",
     "output_type": "stream",
     "text": [
      "          CP nsplit rel error    xerror       xstd\n",
      "1 0.06839852      0 1.0000000 1.0080595 0.09215642\n",
      "2 0.06726713      1 0.9316015 1.0920667 0.09543723\n",
      "3 0.03462630      2 0.8643344 0.9969520 0.08632297\n",
      "4 0.02508343      3 0.8297080 0.9291298 0.08571411\n",
      "5 0.01995676      4 0.8046246 0.9357838 0.08560120\n",
      "6 0.01817661      5 0.7846679 0.9337462 0.08087153\n",
      "7 0.01203879      6 0.7664912 0.9092646 0.07982862\n",
      "8 0.01000000      7 0.7544525 0.9407895 0.08399125\n"
     ]
    }
   ],
   "source": [
    "# So we are done evaluating the model.\n",
    "# But we haven't used validation set yet. Then\n",
    "# let's see how can we use that. In all the \n",
    "# models there are some knobs i.e. hyperparameters\n",
    "# which improves the model. Let's tune them for\n",
    "# tree based regression model. \n",
    "\n",
    "# There are three main knobs that are helpful with\n",
    "# tree based models, namely -\n",
    "# 1. minsplit: minimum number of datapoints required to attempt a split. Default 20.\n",
    "# 2. cp: complexity parameter. Default .01.\n",
    "# 3. maxdepth: depth of a decision tree. Default 30.\n",
    "\n",
    "# Let's look at CP a little bit deeper. The smaller the value of CP\n",
    "# the more complex is the model. When creating the model, rpart creates\n",
    "# a table with different values of CP along with their effect on the model.\n",
    "\n",
    "# Printing the CP Table\n",
    "print(grade_model$cptable)"
   ]
  },
  {
   "cell_type": "code",
   "execution_count": 20,
   "metadata": {},
   "outputs": [
    {
     "data": {
      "image/png": "[encoded data removed]",
      "text/plain": [
       "plot without title"
      ]
     },
     "metadata": {},
     "output_type": "display_data"
    }
   ],
   "source": [
    "\n",
    "# Let's plot the CP Table as well# Let's  \n",
    "plotcp(grade_model)"
   ]
  },
  {
   "cell_type": "code",
   "execution_count": 21,
   "metadata": {},
   "outputs": [
    {
     "data": {
      "text/html": [
       "0.0120387926317157"
      ],
      "text/latex": [
       "0.0120387926317157"
      ],
      "text/markdown": [
       "0.0120387926317157"
      ],
      "text/plain": [
       "[1] 0.01203879"
      ]
     },
     "metadata": {},
     "output_type": "display_data"
    }
   ],
   "source": [
    "# Based on the table, the minimum value of xerror is at\n",
    "# cp of 0.01203879. But let's do it programmatically.\n",
    "\n",
    "opt_index <- which.min(grade_model$cptable[, \"xerror\"])\n",
    "(cp_opt <- grade_model$cptable[opt_index, \"CP\"])"
   ]
  },
  {
   "cell_type": "code",
   "execution_count": 22,
   "metadata": {},
   "outputs": [
    {
     "data": {
      "image/png": "[encoded data removed]",
      "text/plain": [
       "plot without title"
      ]
     },
     "metadata": {},
     "output_type": "display_data"
    }
   ],
   "source": [
    "# Prune the model (to optimized cp value)\n",
    "grade_model_opt <- prune(tree = grade_model, \n",
    "                         cp = cp_opt)\n",
    "                          \n",
    "# Plot the optimized model\n",
    "rpart.plot(x = grade_model_opt, yesno = 2, type = 0, extra = 0)"
   ]
  },
  {
   "cell_type": "code",
   "execution_count": 23,
   "metadata": {},
   "outputs": [
    {
     "data": {
      "text/html": [
       "<table>\n",
       "<thead><tr><th scope=col>minsplit</th><th scope=col>maxdepth</th></tr></thead>\n",
       "<tbody>\n",
       "\t<tr><td>1</td><td>1</td></tr>\n",
       "\t<tr><td>2</td><td>1</td></tr>\n",
       "\t<tr><td>3</td><td>1</td></tr>\n",
       "\t<tr><td>4</td><td>1</td></tr>\n",
       "\t<tr><td>1</td><td>2</td></tr>\n",
       "\t<tr><td>2</td><td>2</td></tr>\n",
       "</tbody>\n",
       "</table>\n"
      ],
      "text/latex": [
       "\\begin{tabular}{r|ll}\n",
       " minsplit & maxdepth\\\\\n",
       "\\hline\n",
       "\t 1 & 1\\\\\n",
       "\t 2 & 1\\\\\n",
       "\t 3 & 1\\\\\n",
       "\t 4 & 1\\\\\n",
       "\t 1 & 2\\\\\n",
       "\t 2 & 2\\\\\n",
       "\\end{tabular}\n"
      ],
      "text/markdown": [
       "\n",
       "minsplit | maxdepth | \n",
       "|---|---|---|---|---|---|\n",
       "| 1 | 1 | \n",
       "| 2 | 1 | \n",
       "| 3 | 1 | \n",
       "| 4 | 1 | \n",
       "| 1 | 2 | \n",
       "| 2 | 2 | \n",
       "\n",
       "\n"
      ],
      "text/plain": [
       "  minsplit maxdepth\n",
       "1 1        1       \n",
       "2 2        1       \n",
       "3 3        1       \n",
       "4 4        1       \n",
       "5 1        2       \n",
       "6 2        2       "
      ]
     },
     "metadata": {},
     "output_type": "display_data"
    }
   ],
   "source": [
    "# Once we have determined the best CP we can look \n",
    "# at the other two Hyperparameters - minsplit and maxdepth.\n",
    "# Searching for correct values minsplit and maxdepth is found\n",
    "# by iterating through all the possible combinations of \n",
    "# minsplit and maxdepth\n",
    "\n",
    "# Establishing a list of possible values for minsplit and maxdepth\n",
    "minsplit <- seq(1, 4, 1)\n",
    "maxdepth <- seq(1, 6, 1)\n",
    "\n",
    "# Create a data frame containing all combinations \n",
    "hyper_grid <- expand.grid(minsplit = minsplit, maxdepth = maxdepth)\n",
    "\n",
    "# Check out the grid\n",
    "head(hyper_grid)"
   ]
  },
  {
   "cell_type": "code",
   "execution_count": 24,
   "metadata": {},
   "outputs": [
    {
     "data": {
      "text/html": [
       "<dl>\n",
       "\t<dt>$minsplit</dt>\n",
       "\t\t<dd>2</dd>\n",
       "\t<dt>$minbucket</dt>\n",
       "\t\t<dd>1</dd>\n",
       "\t<dt>$cp</dt>\n",
       "\t\t<dd>0.0120387926317157</dd>\n",
       "\t<dt>$maxcompete</dt>\n",
       "\t\t<dd>4</dd>\n",
       "\t<dt>$maxsurrogate</dt>\n",
       "\t\t<dd>5</dd>\n",
       "\t<dt>$usesurrogate</dt>\n",
       "\t\t<dd>2</dd>\n",
       "\t<dt>$surrogatestyle</dt>\n",
       "\t\t<dd>0</dd>\n",
       "\t<dt>$maxdepth</dt>\n",
       "\t\t<dd>1</dd>\n",
       "\t<dt>$xval</dt>\n",
       "\t\t<dd>10</dd>\n",
       "</dl>\n"
      ],
      "text/latex": [
       "\\begin{description}\n",
       "\\item[\\$minsplit] 2\n",
       "\\item[\\$minbucket] 1\n",
       "\\item[\\$cp] 0.0120387926317157\n",
       "\\item[\\$maxcompete] 4\n",
       "\\item[\\$maxsurrogate] 5\n",
       "\\item[\\$usesurrogate] 2\n",
       "\\item[\\$surrogatestyle] 0\n",
       "\\item[\\$maxdepth] 1\n",
       "\\item[\\$xval] 10\n",
       "\\end{description}\n"
      ],
      "text/markdown": [
       "$minsplit\n",
       ":   2\n",
       "$minbucket\n",
       ":   1\n",
       "$cp\n",
       ":   0.0120387926317157\n",
       "$maxcompete\n",
       ":   4\n",
       "$maxsurrogate\n",
       ":   5\n",
       "$usesurrogate\n",
       ":   2\n",
       "$surrogatestyle\n",
       ":   0\n",
       "$maxdepth\n",
       ":   1\n",
       "$xval\n",
       ":   10\n",
       "\n",
       "\n"
      ],
      "text/plain": [
       "$minsplit\n",
       "[1] 2\n",
       "\n",
       "$minbucket\n",
       "[1] 1\n",
       "\n",
       "$cp\n",
       "[1] 0.01203879\n",
       "\n",
       "$maxcompete\n",
       "[1] 4\n",
       "\n",
       "$maxsurrogate\n",
       "[1] 5\n",
       "\n",
       "$usesurrogate\n",
       "[1] 2\n",
       "\n",
       "$surrogatestyle\n",
       "[1] 0\n",
       "\n",
       "$maxdepth\n",
       "[1] 1\n",
       "\n",
       "$xval\n",
       "[1] 10\n"
      ]
     },
     "metadata": {},
     "output_type": "display_data"
    }
   ],
   "source": [
    "# Number of potential models in the grid\n",
    "num_models <- nrow(hyper_grid)\n",
    "\n",
    "# Making an empty list to store models\n",
    "grade_models <- list()\n",
    "\n",
    "# Let's write a loop over the rows of hyper_grid to train the grid of models\n",
    "for (i in 1:num_models) {\n",
    "\n",
    "    # Get minsplit, maxdepth values at row i\n",
    "    minsplit <- hyper_grid$minsplit[i]\n",
    "    maxdepth <- hyper_grid$maxdepth[i]\n",
    "\n",
    "    # Train a model and store in the list\n",
    "    grade_models[[i]] <- rpart(formula = final_grade ~ ., \n",
    "                               data = grade_train, \n",
    "                               method = \"anova\",\n",
    "                               minsplit = minsplit,\n",
    "                               maxdepth = maxdepth,\n",
    "                               cp = cp_opt)\n",
    "}\n",
    "# Let's evaluate the grid. Earlier we set aside\n",
    "# validation set for this purpose. \n",
    "\n",
    "num_models <- length(grade_models)\n",
    "\n",
    "# Making an empty vector to store RMSE values\n",
    "rmse_values <- c()\n",
    "\n",
    "# Okay! So that has been a lot of work. We are almost\n",
    "# going to eat the fruit of our efforts. Just a few \n",
    "# more steps.\n",
    "\n",
    "# Looping over the models to compute validation RMSE\n",
    "for (i in 1:num_models) {\n",
    "\n",
    "    # Retreive the i^th model from the list\n",
    "    model <- grade_models[[i]]\n",
    "    \n",
    "    pred <- predict(object = model,\n",
    "                    newdata = grade_valid)\n",
    "    \n",
    "    # Compute validation RMSE and add to the \n",
    "    rmse_values[i] <- rmse(actual = grade_valid$final_grade, \n",
    "                           predicted = pred)\n",
    "}\n",
    "\n",
    "# Identify the model with smallest validation set RMSE\n",
    "best_model <- grade_models[[which.min(rmse_values)]]\n",
    "\n",
    "# Let's have a look at the final chosen params\n",
    "best_model$control"
   ]
  },
  {
   "cell_type": "code",
   "execution_count": 25,
   "metadata": {},
   "outputs": [
    {
     "data": {
      "text/html": [
       "2.12410938449928"
      ],
      "text/latex": [
       "2.12410938449928"
      ],
      "text/markdown": [
       "2.12410938449928"
      ],
      "text/plain": [
       "[1] 2.124109"
      ]
     },
     "metadata": {},
     "output_type": "display_data"
    }
   ],
   "source": [
    "# Compute test set RMSE on best_model\n",
    "pred <- predict(object = best_model,\n",
    "                newdata = grade_test)\n",
    "\n",
    "rmse(actual = grade_test$final_grade, \n",
    "     predicted = pred)"
   ]
  },
  {
   "cell_type": "code",
   "execution_count": 26,
   "metadata": {},
   "outputs": [
    {
     "data": {
      "text/html": [
       "6.76571759224051"
      ],
      "text/latex": [
       "6.76571759224051"
      ],
      "text/markdown": [
       "6.76571759224051"
      ],
      "text/plain": [
       "[1] 6.765718"
      ]
     },
     "metadata": {},
     "output_type": "display_data"
    }
   ],
   "source": [
    "# Damn! We have come a long way now. Earlier we had\n",
    "# an RMSE score of 2.27824929805273 and now score of\n",
    "# 2.12410938449928. That's an improvement of\n",
    "\n",
    "100*abs(2.12410938449928 - 2.27824929805273)/2.27824929805273\n",
    "\n",
    "# 6.76571759224051% \n",
    "# This much improvement will make you jump 1000s of position\n",
    "# on any Kaggle Competition. It seems that the effort was worth it."
   ]
  },
  {
   "cell_type": "code",
   "execution_count": null,
   "metadata": {},
   "outputs": [],
   "source": []
  }
 ],
 "metadata": {
  "kernelspec": {
   "display_name": "R",
   "language": "R",
   "name": "ir"
  },
  "language_info": {
   "codemirror_mode": "r",
   "file_extension": ".r",
   "mimetype": "text/x-r-source",
   "name": "R",
   "pygments_lexer": "r",
   "version": "3.2.3"
  }
 },
 "nbformat": 4,
 "nbformat_minor": 2
}
