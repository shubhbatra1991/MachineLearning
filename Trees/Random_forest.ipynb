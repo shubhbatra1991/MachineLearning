{
 "cells": [
  {
   "cell_type": "code",
   "execution_count": 2,
   "metadata": {},
   "outputs": [],
   "source": [
    "suppressMessages(library(randomForest))\n",
    "suppressMessages(library(caret))\n",
    "suppressMessages(library(Metrics))\n",
    "suppressMessages(library(lattice))\n",
    "suppressMessages(library(ggplot2))"
   ]
  },
  {
   "cell_type": "code",
   "execution_count": 3,
   "metadata": {},
   "outputs": [
    {
     "data": {
      "text/html": [
       "<table>\n",
       "<thead><tr><th scope=col>checking_balance</th><th scope=col>months_loan_duration</th><th scope=col>credit_history</th><th scope=col>purpose</th><th scope=col>amount</th><th scope=col>savings_balance</th><th scope=col>employment_duration</th><th scope=col>percent_of_income</th><th scope=col>years_at_residence</th><th scope=col>age</th><th scope=col>other_credit</th><th scope=col>housing</th><th scope=col>existing_loans_count</th><th scope=col>job</th><th scope=col>dependents</th><th scope=col>phone</th><th scope=col>default</th></tr></thead>\n",
       "<tbody>\n",
       "\t<tr><td><span style=white-space:pre-wrap>&lt; 0 DM    </span> </td><td> 6                                                    </td><td>critical                                              </td><td>furniture/appliances                                  </td><td>1169                                                  </td><td>unknown                                               </td><td><span style=white-space:pre-wrap>&gt; 7 years  </span></td><td>4                                                     </td><td>4                                                     </td><td>67                                                    </td><td>none                                                  </td><td><span style=white-space:pre-wrap>own  </span>         </td><td>2                                                     </td><td><span style=white-space:pre-wrap>skilled  </span>     </td><td>1                                                     </td><td>yes                                                   </td><td>no                                                    </td></tr>\n",
       "\t<tr><td>1 - 200 DM                                       </td><td>48                                               </td><td><span style=white-space:pre-wrap>good    </span> </td><td>furniture/appliances                             </td><td>5951                                             </td><td>&lt; 100 DM                                      </td><td>1 - 4 years                                      </td><td>2                                                </td><td>2                                                </td><td>22                                               </td><td>none                                             </td><td><span style=white-space:pre-wrap>own  </span>    </td><td>1                                                </td><td><span style=white-space:pre-wrap>skilled  </span></td><td>1                                                </td><td>no                                               </td><td>yes                                              </td></tr>\n",
       "\t<tr><td><span style=white-space:pre-wrap>unknown   </span>          </td><td>12                                                          </td><td>critical                                                    </td><td><span style=white-space:pre-wrap>education           </span></td><td>2096                                                        </td><td>&lt; 100 DM                                                 </td><td>4 - 7 years                                                 </td><td>2                                                           </td><td>3                                                           </td><td>49                                                          </td><td>none                                                        </td><td><span style=white-space:pre-wrap>own  </span>               </td><td>1                                                           </td><td>unskilled                                                   </td><td>2                                                           </td><td>no                                                          </td><td>no                                                          </td></tr>\n",
       "\t<tr><td><span style=white-space:pre-wrap>&lt; 0 DM    </span></td><td>42                                                   </td><td><span style=white-space:pre-wrap>good    </span>     </td><td>furniture/appliances                                 </td><td>7882                                                 </td><td>&lt; 100 DM                                          </td><td>4 - 7 years                                          </td><td>2                                                    </td><td>4                                                    </td><td>45                                                   </td><td>none                                                 </td><td>other                                                </td><td>1                                                    </td><td><span style=white-space:pre-wrap>skilled  </span>    </td><td>2                                                    </td><td>no                                                   </td><td>no                                                   </td></tr>\n",
       "\t<tr><td><span style=white-space:pre-wrap>&lt; 0 DM    </span>       </td><td>24                                                          </td><td><span style=white-space:pre-wrap>poor    </span>            </td><td><span style=white-space:pre-wrap>car                 </span></td><td>4870                                                        </td><td>&lt; 100 DM                                                 </td><td>1 - 4 years                                                 </td><td>3                                                           </td><td>4                                                           </td><td>53                                                          </td><td>none                                                        </td><td>other                                                       </td><td>2                                                           </td><td><span style=white-space:pre-wrap>skilled  </span>           </td><td>2                                                           </td><td>no                                                          </td><td>yes                                                         </td></tr>\n",
       "\t<tr><td>unknown             </td><td>36                  </td><td>good                </td><td>education           </td><td>9055                </td><td>unknown             </td><td>1 - 4 years         </td><td>2                   </td><td>4                   </td><td>35                  </td><td>none                </td><td>other               </td><td>1                   </td><td>unskilled           </td><td>2                   </td><td>yes                 </td><td>no                  </td></tr>\n",
       "</tbody>\n",
       "</table>\n"
      ],
      "text/latex": [
       "\\begin{tabular}{r|lllllllllllllllll}\n",
       " checking\\_balance & months\\_loan\\_duration & credit\\_history & purpose & amount & savings\\_balance & employment\\_duration & percent\\_of\\_income & years\\_at\\_residence & age & other\\_credit & housing & existing\\_loans\\_count & job & dependents & phone & default\\\\\n",
       "\\hline\n",
       "\t < 0 DM               &  6                   & critical             & furniture/appliances & 1169                 & unknown              & > 7 years            & 4                    & 4                    & 67                   & none                 & own                  & 2                    & skilled              & 1                    & yes                  & no                  \\\\\n",
       "\t 1 - 200 DM           & 48                   & good                 & furniture/appliances & 5951                 & < 100 DM             & 1 - 4 years          & 2                    & 2                    & 22                   & none                 & own                  & 1                    & skilled              & 1                    & no                   & yes                 \\\\\n",
       "\t unknown              & 12                   & critical             & education            & 2096                 & < 100 DM             & 4 - 7 years          & 2                    & 3                    & 49                   & none                 & own                  & 1                    & unskilled            & 2                    & no                   & no                  \\\\\n",
       "\t < 0 DM               & 42                   & good                 & furniture/appliances & 7882                 & < 100 DM             & 4 - 7 years          & 2                    & 4                    & 45                   & none                 & other                & 1                    & skilled              & 2                    & no                   & no                  \\\\\n",
       "\t < 0 DM               & 24                   & poor                 & car                  & 4870                 & < 100 DM             & 1 - 4 years          & 3                    & 4                    & 53                   & none                 & other                & 2                    & skilled              & 2                    & no                   & yes                 \\\\\n",
       "\t unknown              & 36                   & good                 & education            & 9055                 & unknown              & 1 - 4 years          & 2                    & 4                    & 35                   & none                 & other                & 1                    & unskilled            & 2                    & yes                  & no                  \\\\\n",
       "\\end{tabular}\n"
      ],
      "text/markdown": [
       "\n",
       "checking_balance | months_loan_duration | credit_history | purpose | amount | savings_balance | employment_duration | percent_of_income | years_at_residence | age | other_credit | housing | existing_loans_count | job | dependents | phone | default | \n",
       "|---|---|---|---|---|---|\n",
       "| < 0 DM               |  6                   | critical             | furniture/appliances | 1169                 | unknown              | > 7 years            | 4                    | 4                    | 67                   | none                 | own                  | 2                    | skilled              | 1                    | yes                  | no                   | \n",
       "| 1 - 200 DM           | 48                   | good                 | furniture/appliances | 5951                 | < 100 DM             | 1 - 4 years          | 2                    | 2                    | 22                   | none                 | own                  | 1                    | skilled              | 1                    | no                   | yes                  | \n",
       "| unknown              | 12                   | critical             | education            | 2096                 | < 100 DM             | 4 - 7 years          | 2                    | 3                    | 49                   | none                 | own                  | 1                    | unskilled            | 2                    | no                   | no                   | \n",
       "| < 0 DM               | 42                   | good                 | furniture/appliances | 7882                 | < 100 DM             | 4 - 7 years          | 2                    | 4                    | 45                   | none                 | other                | 1                    | skilled              | 2                    | no                   | no                   | \n",
       "| < 0 DM               | 24                   | poor                 | car                  | 4870                 | < 100 DM             | 1 - 4 years          | 3                    | 4                    | 53                   | none                 | other                | 2                    | skilled              | 2                    | no                   | yes                  | \n",
       "| unknown              | 36                   | good                 | education            | 9055                 | unknown              | 1 - 4 years          | 2                    | 4                    | 35                   | none                 | other                | 1                    | unskilled            | 2                    | yes                  | no                   | \n",
       "\n",
       "\n"
      ],
      "text/plain": [
       "  checking_balance months_loan_duration credit_history purpose             \n",
       "1 < 0 DM            6                   critical       furniture/appliances\n",
       "2 1 - 200 DM       48                   good           furniture/appliances\n",
       "3 unknown          12                   critical       education           \n",
       "4 < 0 DM           42                   good           furniture/appliances\n",
       "5 < 0 DM           24                   poor           car                 \n",
       "6 unknown          36                   good           education           \n",
       "  amount savings_balance employment_duration percent_of_income\n",
       "1 1169   unknown         > 7 years           4                \n",
       "2 5951   < 100 DM        1 - 4 years         2                \n",
       "3 2096   < 100 DM        4 - 7 years         2                \n",
       "4 7882   < 100 DM        4 - 7 years         2                \n",
       "5 4870   < 100 DM        1 - 4 years         3                \n",
       "6 9055   unknown         1 - 4 years         2                \n",
       "  years_at_residence age other_credit housing existing_loans_count job      \n",
       "1 4                  67  none         own     2                    skilled  \n",
       "2 2                  22  none         own     1                    skilled  \n",
       "3 3                  49  none         own     1                    unskilled\n",
       "4 4                  45  none         other   1                    skilled  \n",
       "5 4                  53  none         other   2                    skilled  \n",
       "6 4                  35  none         other   1                    unskilled\n",
       "  dependents phone default\n",
       "1 1          yes   no     \n",
       "2 1          no    yes    \n",
       "3 2          no    no     \n",
       "4 2          no    no     \n",
       "5 2          no    yes    \n",
       "6 2          yes   no     "
      ]
     },
     "metadata": {},
     "output_type": "display_data"
    }
   ],
   "source": [
    "# reading data file ~ credit.csv # readi \n",
    "# taken from https://archive.ics.uci.edu/ml/datasets/Statlog+%28German+Credit+Data%29\n",
    "\n",
    "# credit.csv is composed of qualitative and quantitative variables.\n",
    "# For this exercise we will focus on all of the features\n",
    "\n",
    "creditsub <- read.csv(file = '/home/dell/R_programming/case studies/trees/MachineLearning/data/credit.csv', \n",
    "                      header = T)\n",
    "\n",
    "# Let's take a look at the dataframe\n",
    "head(creditsub)"
   ]
  },
  {
   "cell_type": "code",
   "execution_count": 4,
   "metadata": {},
   "outputs": [],
   "source": [
    "# Let's split the data into train and test\n",
    "\n",
    "# Setting seed for reproducible train and test partitions\n",
    "set.seed(123)\n",
    "\n",
    "smp_size <- floor(0.75 * nrow(creditsub))\n",
    "\n",
    "train_ind <- sample(seq_len(nrow(creditsub)), size = smp_size)\n",
    "\n",
    "credit_train <- creditsub[train_ind, ]\n",
    "\n",
    "credit_test <- creditsub[-train_ind, ]"
   ]
  },
  {
   "cell_type": "code",
   "execution_count": 5,
   "metadata": {},
   "outputs": [
    {
     "name": "stdout",
     "output_type": "stream",
     "text": [
      "\n",
      "Call:\n",
      " randomForest(formula = default ~ ., data = credit_train) \n",
      "               Type of random forest: classification\n",
      "                     Number of trees: 500\n",
      "No. of variables tried at each split: 4\n",
      "\n",
      "        OOB estimate of  error rate: 24.93%\n",
      "Confusion matrix:\n",
      "     no yes class.error\n",
      "no  476  49  0.09333333\n",
      "yes 138  87  0.61333333\n"
     ]
    }
   ],
   "source": [
    "credit_model <- randomForest(formula = default ~ ., \n",
    "                             data = credit_train)\n",
    "                           \n",
    "print(credit_model)"
   ]
  },
  {
   "cell_type": "code",
   "execution_count": 6,
   "metadata": {},
   "outputs": [
    {
     "data": {
      "text/html": [
       "<table>\n",
       "<thead><tr><th scope=col>OOB</th><th scope=col>no</th><th scope=col>yes</th></tr></thead>\n",
       "<tbody>\n",
       "\t<tr><td>0.3620072</td><td>0.2842640</td><td>0.5487805</td></tr>\n",
       "\t<tr><td>0.3391304</td><td>0.2584615</td><td>0.5333333</td></tr>\n",
       "\t<tr><td>0.3263525</td><td>0.2309582</td><td>0.5602410</td></tr>\n",
       "\t<tr><td>0.3489097</td><td>0.2401747</td><td>0.6195652</td></tr>\n",
       "\t<tr><td>0.3187135</td><td>0.2107438</td><td>0.5800000</td></tr>\n",
       "\t<tr><td>0.3380282</td><td>0.2147117</td><td>0.6376812</td></tr>\n",
       "</tbody>\n",
       "</table>\n"
      ],
      "text/latex": [
       "\\begin{tabular}{lll}\n",
       " OOB & no & yes\\\\\n",
       "\\hline\n",
       "\t 0.3620072 & 0.2842640 & 0.5487805\\\\\n",
       "\t 0.3391304 & 0.2584615 & 0.5333333\\\\\n",
       "\t 0.3263525 & 0.2309582 & 0.5602410\\\\\n",
       "\t 0.3489097 & 0.2401747 & 0.6195652\\\\\n",
       "\t 0.3187135 & 0.2107438 & 0.5800000\\\\\n",
       "\t 0.3380282 & 0.2147117 & 0.6376812\\\\\n",
       "\\end{tabular}\n"
      ],
      "text/markdown": [
       "\n",
       "OOB | no | yes | \n",
       "|---|---|---|---|---|---|\n",
       "| 0.3620072 | 0.2842640 | 0.5487805 | \n",
       "| 0.3391304 | 0.2584615 | 0.5333333 | \n",
       "| 0.3263525 | 0.2309582 | 0.5602410 | \n",
       "| 0.3489097 | 0.2401747 | 0.6195652 | \n",
       "| 0.3187135 | 0.2107438 | 0.5800000 | \n",
       "| 0.3380282 | 0.2147117 | 0.6376812 | \n",
       "\n",
       "\n"
      ],
      "text/plain": [
       "     OOB       no        yes      \n",
       "[1,] 0.3620072 0.2842640 0.5487805\n",
       "[2,] 0.3391304 0.2584615 0.5333333\n",
       "[3,] 0.3263525 0.2309582 0.5602410\n",
       "[4,] 0.3489097 0.2401747 0.6195652\n",
       "[5,] 0.3187135 0.2107438 0.5800000\n",
       "[6,] 0.3380282 0.2147117 0.6376812"
      ]
     },
     "metadata": {},
     "output_type": "display_data"
    },
    {
     "data": {
      "text/html": [
       "<strong>OOB:</strong> 0.249333333333333"
      ],
      "text/latex": [
       "\\textbf{OOB:} 0.249333333333333"
      ],
      "text/markdown": [
       "**OOB:** 0.249333333333333"
      ],
      "text/plain": [
       "      OOB \n",
       "0.2493333 "
      ]
     },
     "metadata": {},
     "output_type": "display_data"
    }
   ],
   "source": [
    "#let us look at OOB estimate closely\n",
    "# OOB error matrix\n",
    "err <- credit_model$err.rate\n",
    "\n",
    "head(err)\n",
    "\n",
    "# Look at final OOB error rate (last row in err matrix)\n",
    "(oob_err <- err[nrow(err), \"OOB\"])"
   ]
  },
  {
   "cell_type": "code",
   "execution_count": 7,
   "metadata": {},
   "outputs": [
    {
     "data": {
      "image/png": "[encoded data removed]",
      "text/plain": [
       "Plot with title “credit_model”"
      ]
     },
     "metadata": {},
     "output_type": "display_data"
    }
   ],
   "source": [
    "# Let's plot the model trained above\n",
    "plot(credit_model)\n",
    "\n",
    "# Adding a legend is a must :D\n",
    "legend(x = \"right\", \n",
    "       legend = colnames(err),\n",
    "       fill = 1:ncol(err))"
   ]
  },
  {
   "cell_type": "code",
   "execution_count": 8,
   "metadata": {},
   "outputs": [],
   "source": [
    "#OOB is not discussed here because it was discussed in the notebook on bagged trees.\n",
    "#Let's evaluate model performance on a test set"
   ]
  },
  {
   "cell_type": "code",
   "execution_count": 9,
   "metadata": {},
   "outputs": [
    {
     "name": "stdout",
     "output_type": "stream",
     "text": [
      "Confusion Matrix and Statistics\n",
      "\n",
      "          Reference\n",
      "Prediction  no yes\n",
      "       no  164  45\n",
      "       yes  11  30\n",
      "                                          \n",
      "               Accuracy : 0.776           \n",
      "                 95% CI : (0.7192, 0.8261)\n",
      "    No Information Rate : 0.7             \n",
      "    P-Value [Acc > NIR] : 0.004485        \n",
      "                                          \n",
      "                  Kappa : 0.3873          \n",
      " Mcnemar's Test P-Value : 1.035e-05       \n",
      "                                          \n",
      "            Sensitivity : 0.9371          \n",
      "            Specificity : 0.4000          \n",
      "         Pos Pred Value : 0.7847          \n",
      "         Neg Pred Value : 0.7317          \n",
      "             Prevalence : 0.7000          \n",
      "         Detection Rate : 0.6560          \n",
      "   Detection Prevalence : 0.8360          \n",
      "      Balanced Accuracy : 0.6686          \n",
      "                                          \n",
      "       'Positive' Class : no              \n",
      "                                          \n"
     ]
    }
   ],
   "source": [
    "# Let's test the model\n",
    "class_prediction <- predict(object = credit_model,\n",
    "                            newdata = credit_test,\n",
    "                            type = \"class\") # return classification labels\n",
    "                            \n",
    "# The confusion matrix for the test set\n",
    "cm <- confusionMatrix(data = class_prediction,       \n",
    "                      reference = credit_test$default)\n",
    "print(cm)"
   ]
  },
  {
   "cell_type": "code",
   "execution_count": 10,
   "metadata": {},
   "outputs": [
    {
     "data": {
      "text/html": [
       "'Test Accuracy: 0.776'"
      ],
      "text/latex": [
       "'Test Accuracy: 0.776'"
      ],
      "text/markdown": [
       "'Test Accuracy: 0.776'"
      ],
      "text/plain": [
       "[1] \"Test Accuracy: 0.776\""
      ]
     },
     "metadata": {},
     "output_type": "display_data"
    },
    {
     "data": {
      "text/html": [
       "'OOB Accuracy: 0.750666666666667'"
      ],
      "text/latex": [
       "'OOB Accuracy: 0.750666666666667'"
      ],
      "text/markdown": [
       "'OOB Accuracy: 0.750666666666667'"
      ],
      "text/plain": [
       "[1] \"OOB Accuracy: 0.750666666666667\""
      ]
     },
     "metadata": {},
     "output_type": "display_data"
    }
   ],
   "source": [
    "# Let's compare test set accuracy to OOB accuracy\n",
    "paste0(\"Test Accuracy: \", cm$overall[1])\n",
    "paste0(\"OOB Accuracy: \", 1 - oob_err)"
   ]
  },
  {
   "cell_type": "code",
   "execution_count": 11,
   "metadata": {},
   "outputs": [],
   "source": [
    "#Test accuracy and OOB accuracy are close enough. OOB gives a generic idea about the performance of the model."
   ]
  },
  {
   "cell_type": "code",
   "execution_count": 12,
   "metadata": {},
   "outputs": [
    {
     "data": {
      "text/html": [
       "0.224"
      ],
      "text/latex": [
       "0.224"
      ],
      "text/markdown": [
       "0.224"
      ],
      "text/plain": [
       "[1] 0.224"
      ]
     },
     "metadata": {},
     "output_type": "display_data"
    }
   ],
   "source": [
    "# Let's check the model accuracy with another metrics: classification error# Let's \n",
    "(ce(actual = credit_test$default, \n",
    "   predicted = class_prediction))"
   ]
  },
  {
   "cell_type": "code",
   "execution_count": 13,
   "metadata": {},
   "outputs": [
    {
     "data": {
      "text/html": [
       "0.812876190476191"
      ],
      "text/latex": [
       "0.812876190476191"
      ],
      "text/markdown": [
       "0.812876190476191"
      ],
      "text/plain": [
       "[1] 0.8128762"
      ]
     },
     "metadata": {},
     "output_type": "display_data"
    }
   ],
   "source": [
    "# Another famous metric is AUC/ROC. Let's calculate AUC of the predicted model.\n",
    "\n",
    "# For that to happen we need to generate predictions on the test set\n",
    "pred <- predict(object = credit_model,\n",
    "            newdata = credit_test,\n",
    "            type = \"prob\")\n",
    "\n",
    "                \n",
    "# And now compute the AUC\n",
    "auc(actual = ifelse(credit_test$default == \"yes\", 1, 0), \n",
    "    predicted = pred[,\"yes\"])"
   ]
  },
  {
   "cell_type": "code",
   "execution_count": 14,
   "metadata": {},
   "outputs": [],
   "source": [
    "#Like any machine learning algorithm, to achieve the best model we tune the hyperparameters of the model. Let's do that. Some of the key hyperparameters we are going to play with would be :\n",
    "\n",
    "# 1) ntrees - number of trees. Default is 500.\n",
    "# 2) mtry - number of variables choosen as candidates to train at each split. Default is sqrt(total input features)\n",
    "# 3) sampsize - number of samples to train on. Default to 63.2%\n",
    "\n",
    "#There are two other important parameters but we are not covering them here.\n",
    "#nodesize - minimum size of the terminal nodes, helps in controlling the complexity. \n",
    "        #Lesser the nodesize -> more complex the tree.\n",
    "#maxnodes - maximum number of terminal nodes, helps in controlling the complexity and in avoiding overfitting.\n",
    "#The most important of the hyperparameters is mtry. Let's fix that first."
   ]
  },
  {
   "cell_type": "code",
   "execution_count": 15,
   "metadata": {},
   "outputs": [
    {
     "name": "stdout",
     "output_type": "stream",
     "text": [
      "mtry = 4  OOB error = 24.4% \n",
      "Searching left ...\n",
      "mtry = 2 \tOOB error = 25.47% \n",
      "-0.04371585 0.05 \n",
      "Searching right ...\n",
      "mtry = 8 \tOOB error = 25.2% \n",
      "-0.03278689 0.05 \n",
      "      mtry  OOBError\n",
      "2.OOB    2 0.2546667\n",
      "4.OOB    4 0.2440000\n",
      "8.OOB    8 0.2520000\n"
     ]
    },
    {
     "data": {
      "image/png": "[encoded data removed]",
      "text/plain": [
       "plot without title"
      ]
     },
     "metadata": {},
     "output_type": "display_data"
    }
   ],
   "source": [
    "# Let's start the tuning process    \n",
    "res <- tuneRF(x = subset(credit_train, select = -default),\n",
    "              y = credit_train$default,\n",
    "              ntreeTry = 500)\n",
    "               \n",
    "# Look at results\n",
    "print(res)"
   ]
  },
  {
   "cell_type": "code",
   "execution_count": 16,
   "metadata": {},
   "outputs": [
    {
     "name": "stdout",
     "output_type": "stream",
     "text": [
      "4.OOB \n",
      "    4 \n"
     ]
    }
   ],
   "source": [
    "# Find the mtry value that minimizes OOB Error# Find t \n",
    "mtry_opt <- res[,\"mtry\"][which.min(res[,\"OOBError\"])]\n",
    "print(mtry_opt)"
   ]
  },
  {
   "cell_type": "code",
   "execution_count": 17,
   "metadata": {},
   "outputs": [],
   "source": [
    "#Therefore the best mtry value is 1.\n",
    "#Previously, we trained mtry using the tune function provided by randomForest. However, let's tune it using a grid of all possible combinations."
   ]
  },
  {
   "cell_type": "code",
   "execution_count": 18,
   "metadata": {},
   "outputs": [
    {
     "data": {
      "text/html": [
       "22"
      ],
      "text/latex": [
       "22"
      ],
      "text/markdown": [
       "22"
      ],
      "text/plain": [
       "[1] 22"
      ]
     },
     "metadata": {},
     "output_type": "display_data"
    },
    {
     "name": "stdout",
     "output_type": "stream",
     "text": [
      "   mtry nodesize sampsize\n",
      "22    6        5      600\n"
     ]
    }
   ],
   "source": [
    "# Setting seed for reproducible train and test partitions\n",
    "set.seed(123)\n",
    "\n",
    "# List of possible values for mtry, nodesize and sampsize\n",
    "mtry <- seq(4, ncol(credit_train) * 0.8, 2)\n",
    "nodesize <- seq(3, 8, 2)\n",
    "sampsize <- nrow(credit_train) * c(0.7, 0.8)\n",
    "\n",
    "# Create a data frame containing all combinations \n",
    "hyper_grid <- expand.grid(mtry = mtry, nodesize = nodesize, sampsize = sampsize)\n",
    "\n",
    "# Create an empty vector to store OOB error values and model\n",
    "oob_err <- c()\n",
    "model_vec <- list()\n",
    "\n",
    "# Loop over the rows of hyper_grid to train the grid of models\n",
    "for (i in 1:nrow(hyper_grid)) {\n",
    "\n",
    "    model <- randomForest(formula = default ~ ., \n",
    "                          data = credit_train,\n",
    "                          mtry = hyper_grid$mtry[i],\n",
    "                          nodesize = hyper_grid$nodesize[i],\n",
    "                          sampsize = hyper_grid$sampsize[i])\n",
    "                          \n",
    "    # Store OOB error for the model                      \n",
    "    oob_err[i] <- model$err.rate[nrow(model$err.rate), \"OOB\"]\n",
    "    model_vec[[i]] <- model\n",
    "}\n",
    "\n",
    "# Identify optimal set of hyperparmeters based on OOB error\n",
    "(opt_i <- which.min(oob_err))\n",
    "print(hyper_grid[opt_i,])"
   ]
  },
  {
   "cell_type": "code",
   "execution_count": 19,
   "metadata": {},
   "outputs": [
    {
     "data": {
      "text/plain": [
       "\n",
       "Call:\n",
       " randomForest(formula = default ~ ., data = credit_train, mtry = hyper_grid$mtry[i],      nodesize = hyper_grid$nodesize[i], sampsize = hyper_grid$sampsize[i]) \n",
       "               Type of random forest: classification\n",
       "                     Number of trees: 500\n",
       "No. of variables tried at each split: 10\n",
       "\n",
       "        OOB estimate of  error rate: 24.8%\n",
       "Confusion matrix:\n",
       "     no yes class.error\n",
       "no  470  55   0.1047619\n",
       "yes 131  94   0.5822222"
      ]
     },
     "metadata": {},
     "output_type": "display_data"
    }
   ],
   "source": [
    "model_vec[[9]] #best model"
   ]
  },
  {
   "cell_type": "code",
   "execution_count": 20,
   "metadata": {},
   "outputs": [],
   "source": [
    "#Let's check out the results of our final model on the test dataset."
   ]
  },
  {
   "cell_type": "code",
   "execution_count": 21,
   "metadata": {},
   "outputs": [
    {
     "name": "stdout",
     "output_type": "stream",
     "text": [
      "Confusion Matrix and Statistics\n",
      "\n",
      "          Reference\n",
      "Prediction  no yes\n",
      "       no  160  46\n",
      "       yes  15  29\n",
      "                                          \n",
      "               Accuracy : 0.756           \n",
      "                 95% CI : (0.6979, 0.8079)\n",
      "    No Information Rate : 0.7             \n",
      "    P-Value [Acc > NIR] : 0.0294501       \n",
      "                                          \n",
      "                  Kappa : 0.3413          \n",
      " Mcnemar's Test P-Value : 0.0001225       \n",
      "                                          \n",
      "            Sensitivity : 0.9143          \n",
      "            Specificity : 0.3867          \n",
      "         Pos Pred Value : 0.7767          \n",
      "         Neg Pred Value : 0.6591          \n",
      "             Prevalence : 0.7000          \n",
      "         Detection Rate : 0.6400          \n",
      "   Detection Prevalence : 0.8240          \n",
      "      Balanced Accuracy : 0.6505          \n",
      "                                          \n",
      "       'Positive' Class : no              \n",
      "                                          \n"
     ]
    }
   ],
   "source": [
    "class_prediction <- predict(object = model_vec[[9]],\n",
    "                            newdata = credit_test,\n",
    "                            type = \"class\") # return classification labels\n",
    "                            \n",
    "# The confusion matrix for the test set\n",
    "cm <- confusionMatrix(data = class_prediction,       \n",
    "                      reference = credit_test$default)\n",
    "print(cm)"
   ]
  },
  {
   "cell_type": "code",
   "execution_count": 22,
   "metadata": {},
   "outputs": [],
   "source": [
    "#I would be coming up with some new things in it soon."
   ]
  }
 ],
 "metadata": {
  "kernelspec": {
   "display_name": "R",
   "language": "R",
   "name": "ir"
  },
  "language_info": {
   "codemirror_mode": "r",
   "file_extension": ".r",
   "mimetype": "text/x-r-source",
   "name": "R",
   "pygments_lexer": "r",
   "version": "3.2.3"
  }
 },
 "nbformat": 4,
 "nbformat_minor": 2
}
